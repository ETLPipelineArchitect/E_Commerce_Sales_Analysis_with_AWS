{
    "cells": [
        {
            "cell_type": "markdown",
            "metadata": {},
            "source": [
                "# E-Commerce Sales Analysis\n",
                "This notebook presents an overview of the sales analysis performed on the e-commerce dataset."
            ]
        },
        {
            "cell_type": "code",
            "execution_count": 1,
            "metadata": {},
            "outputs": [],
            "source": [
                "import pandas as pd\n",
                "import matplotlib.pyplot as plt\n",
                "\n",
                "# Load the Data\n",
                "data = pd.read_csv('s3://your-bucket/ecommerce_data/output/top_products.csv')\n",
                "\n",
                "# Display Data\n",
                "data.head()"
            ]
        }
    ],
    "metadata": {
        "kernelspec": {
            "display_name": "Python 3",
            "language": "python",
            "name": "python3"
        },
        "language_info": {
            "name": "python",
            "version": "3.8.5",
            "mimetype": "text/x-python",
            "codemirror_mode": {
                "name": "ipython",
                "version": 3
            },
            "pygments_lexer": "ipython3",
            "nbconvert_exporter": "python",
            "file_extension": ".py"
        }
    },
    "nbformat": 4,
    "nbformat_minor": 5
}